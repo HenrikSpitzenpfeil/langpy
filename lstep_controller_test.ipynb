{
 "cells": [
  {
   "cell_type": "code",
   "execution_count": 3,
   "metadata": {},
   "outputs": [],
   "source": [
    "#import clr\n",
    "lstepdll = '.\\lstep64'\n",
    "lstep_config = '.\\lstep_config.LSControl'\n",
    "#clr.AddReference(lstepdll)"
   ]
  },
  {
   "cell_type": "code",
   "execution_count": 7,
   "metadata": {},
   "outputs": [
    {
     "name": "stdout",
     "output_type": "stream",
     "text": [
      "4005\n"
     ]
    }
   ],
   "source": [
    "import ctypes\n",
    "dll=ctypes.WinDLL(lstepdll+\".dll\")\n",
    "hllApiProto = ctypes.WINFUNCTYPE (\n",
    "    ctypes.c_int32,      # Return type.\n",
    "    ctypes.c_int32)\n",
    "foo = ctypes.c_int32()\n",
    "\n",
    "dll.LSX_CreateLSID(ctypes.byref(foo))\n",
    "print(dll.LSX_Connect(foo))\n",
    "#print(foo.value)"
   ]
  },
  {
   "cell_type": "code",
   "execution_count": null,
   "metadata": {},
   "outputs": [],
   "source": [
    "\n"
   ]
  },
  {
   "cell_type": "code",
   "execution_count": null,
   "metadata": {},
   "outputs": [],
   "source": []
  }
 ],
 "metadata": {
  "kernelspec": {
   "display_name": "oer",
   "language": "python",
   "name": "python3"
  },
  "language_info": {
   "codemirror_mode": {
    "name": "ipython",
    "version": 3
   },
   "file_extension": ".py",
   "mimetype": "text/x-python",
   "name": "python",
   "nbconvert_exporter": "python",
   "pygments_lexer": "ipython3",
   "version": "3.10.11"
  },
  "orig_nbformat": 4
 },
 "nbformat": 4,
 "nbformat_minor": 2
}
