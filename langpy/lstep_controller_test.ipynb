{
 "cells": [
  {
   "cell_type": "code",
   "execution_count": 1,
   "metadata": {},
   "outputs": [],
   "source": [
    "#import clr\n",
    "lstepdll = '.\\lstep64'\n",
    "lstep_config = '.\\lstep_config.LSControl'\n",
    "#clr.AddReference(lstepdll)"
   ]
  },
  {
   "cell_type": "code",
   "execution_count": 2,
   "metadata": {},
   "outputs": [
    {
     "name": "stdout",
     "output_type": "stream",
     "text": [
      "c_long(0)\n",
      "0\n",
      "4005\n",
      "0\n",
      "1\n"
     ]
    }
   ],
   "source": [
    "import ctypes\n",
    "dll=ctypes.WinDLL(lstepdll+\".dll\")\n",
    "hllApiProto = ctypes.WINFUNCTYPE (\n",
    "    ctypes.c_int32,      # Return type.\n",
    "    ctypes.c_int32)\n",
    "foo = ctypes.c_int32()\n",
    "print(foo)\n",
    "print(dll.LSX_CreateLSID(ctypes.byref(foo)))\n",
    "print(dll.LSX_Connect(foo))\n",
    "print(dll.LSX_LoadConfig(foo, lstep_config))\n",
    "print(foo.value)"
   ]
  },
  {
   "cell_type": "code",
   "execution_count": 23,
   "metadata": {},
   "outputs": [
    {
     "name": "stdout",
     "output_type": "stream",
     "text": [
      "21\n"
     ]
    }
   ],
   "source": [
    "def CreateLSID () -> tuple:\n",
    "\n",
    "    '''Create an ID Value for a controller.\n",
    "    Tuple: Error Code: int, LSID: ctypes.c_int32'''\n",
    "\n",
    "    c_LSID = ctypes.c_int32()\n",
    "    return dll.LSX_CreateLSID(ctypes.byref(c_LSID)), c_LSID\n",
    "error, LSID = CreateLSID()\n",
    "print(LSID.value)\n"
   ]
  },
  {
   "cell_type": "code",
   "execution_count": 1,
   "metadata": {},
   "outputs": [],
   "source": [
    "import langpy"
   ]
  },
  {
   "cell_type": "code",
   "execution_count": 2,
   "metadata": {},
   "outputs": [
    {
     "data": {
      "text/plain": [
       "1"
      ]
     },
     "execution_count": 2,
     "metadata": {},
     "output_type": "execute_result"
    }
   ],
   "source": [
    "error, LSID = langpy.CreateLSID()\n",
    "LSID.value"
   ]
  },
  {
   "cell_type": "code",
   "execution_count": 3,
   "metadata": {},
   "outputs": [
    {
     "name": "stdout",
     "output_type": "stream",
     "text": [
      "<class 'bytes'> <class 'str'> <class 'bytes'>\n"
     ]
    },
    {
     "ename": "",
     "evalue": "",
     "output_type": "error",
     "traceback": [
      "\u001b[1;31mThe Kernel crashed while executing code in the the current cell or a previous cell. Please review the code in the cell(s) to identify a possible cause of the failure. Click <a href='https://aka.ms/vscodeJupyterKernelCrash'>here</a> for more info. View Jupyter <a href='command:jupyter.viewOutput'>log</a> for further details."
     ]
    }
   ],
   "source": [
    "string = b'hello'\n",
    "world = 'world'\n",
    "world_bytes = bytes(world, 'utf8')\n",
    "print(type(string), type(world), type(world_bytes))"
   ]
  },
  {
   "cell_type": "code",
   "execution_count": null,
   "metadata": {},
   "outputs": [],
   "source": []
  }
 ],
 "metadata": {
  "kernelspec": {
   "display_name": "oer",
   "language": "python",
   "name": "python3"
  },
  "language_info": {
   "codemirror_mode": {
    "name": "ipython",
    "version": 3
   },
   "file_extension": ".py",
   "mimetype": "text/x-python",
   "name": "python",
   "nbconvert_exporter": "python",
   "pygments_lexer": "ipython3",
   "version": "3.10.11"
  },
  "orig_nbformat": 4
 },
 "nbformat": 4,
 "nbformat_minor": 2
}
